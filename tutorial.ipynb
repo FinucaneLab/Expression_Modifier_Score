{
 "cells": [
  {
   "cell_type": "markdown",
   "metadata": {},
   "source": [
    "# Intro \n",
    "\n",
    "In this notebook, we will learn how to use hail functions to annotate the Expression Modifier Score (EMS) for a given list of variant-gene pairs (vgs).\n",
    "\n",
    "Most of the work in this notebook is performed in google cloud using hail. Specifically, we ran\n",
    "\n",
    "`hailctl dataproc start qbwcluster-mpl -w 8 --pkgs matplotlib,seaborn,sklearn`\n",
    "\n",
    "Followed by\n",
    "\n",
    "`hailctl dataproc connect qbwcluster-mpl notebook`\n",
    "\n",
    "To start the jupyter notebook in the google cloud cluster.\n",
    "\n",
    "(For more info on setting up the cluster and notebook, please visit the relevant pages: [hail](https://hail.is/index.html) and the [hail dataproc](https://github.com/Nealelab/cloudtools/blob/master/README.md))\n",
    "\n",
    "After building the cluster and starting this notebook, the first step is to import hail and relevant tools:"
   ]
  },
  {
   "cell_type": "code",
   "execution_count": 1,
   "metadata": {},
   "outputs": [
    {
     "name": "stderr",
     "output_type": "stream",
     "text": [
      "Running on Apache Spark version 2.4.5\n",
      "SparkUI available at http://qbwcluster-mpl-m.c.encode-uk-biobank.internal:4041\n",
      "Welcome to\n",
      "     __  __     <>__\n",
      "    / /_/ /__  __/ /\n",
      "   / __  / _ `/ / /\n",
      "  /_/ /_/\\_,_/_/_/   version 0.2.26-2dcc3d963867\n",
      "LOGGING: writing to /home/hail/hail-20200914-2112-0.2.26-2dcc3d963867.log\n"
     ]
    }
   ],
   "source": [
    "#import and initialize hail \n",
    "import hail as hl\n",
    "import hail.expr.aggregators as agg\n",
    "hl.init(default_reference='GRCh38')\n",
    "\n",
    "#import other useful tools\n",
    "import time as tm\n",
    "import pandas as pd\n",
    "import numpy as np\n",
    "from matplotlib import pyplot as plt\n",
    "import seaborn as sns"
   ]
  },
  {
   "cell_type": "markdown",
   "metadata": {},
   "source": [
    "Now assuming that we have the environment built, first, let's start taking a look at the EMS in Whole Blood by reading it as a hail table:"
   ]
  },
  {
   "cell_type": "code",
   "execution_count": 2,
   "metadata": {},
   "outputs": [
    {
     "data": {
      "text/html": [
       "<table><thead style=\"font-weight: bold;\"><tr><td>v</td><td>g</td><td>rf_score_raw</td><td>ems</td><td>ems_normalized</td></tr>\n",
       "<tr><td>str</td><td>str</td><td>float64</td><td>float64</td><td>float64</td></tr>\n",
       "</thead><tbody><tr><td>&quot;chr10_100000235_C_T_b38&quot;</td><td>&quot;ENSG00000014919.12&quot;</td><td>3.90e-02</td><td>1.78e-06</td><td>1.47e-01</td></tr>\n",
       "<tr><td>&quot;chr10_100000235_C_T_b38&quot;</td><td>&quot;ENSG00000023839.10&quot;</td><td>4.48e-02</td><td>2.42e-06</td><td>1.99e-01</td></tr>\n",
       "<tr><td>&quot;chr10_100000235_C_T_b38&quot;</td><td>&quot;ENSG00000055950.16&quot;</td><td>1.77e-02</td><td>5.31e-07</td><td>4.37e-02</td></tr>\n",
       "<tr><td>&quot;chr10_100000235_C_T_b38&quot;</td><td>&quot;ENSG00000075290.7&quot;</td><td>2.07e-02</td><td>5.08e-07</td><td>4.19e-02</td></tr>\n",
       "<tr><td>&quot;chr10_100000235_C_T_b38&quot;</td><td>&quot;ENSG00000075826.16&quot;</td><td>1.84e-02</td><td>5.31e-07</td><td>4.37e-02</td></tr>\n",
       "</tbody></table>"
      ],
      "text/plain": [
       "+---------------------------+----------------------+--------------+----------+\n",
       "| v                         | g                    | rf_score_raw |      ems |\n",
       "+---------------------------+----------------------+--------------+----------+\n",
       "| str                       | str                  |      float64 |  float64 |\n",
       "+---------------------------+----------------------+--------------+----------+\n",
       "| \"chr10_100000235_C_T_b38\" | \"ENSG00000014919.12\" |     3.90e-02 | 1.78e-06 |\n",
       "| \"chr10_100000235_C_T_b38\" | \"ENSG00000023839.10\" |     4.48e-02 | 2.42e-06 |\n",
       "| \"chr10_100000235_C_T_b38\" | \"ENSG00000055950.16\" |     1.77e-02 | 5.31e-07 |\n",
       "| \"chr10_100000235_C_T_b38\" | \"ENSG00000075290.7\"  |     2.07e-02 | 5.08e-07 |\n",
       "| \"chr10_100000235_C_T_b38\" | \"ENSG00000075826.16\" |     1.84e-02 | 5.31e-07 |\n",
       "+---------------------------+----------------------+--------------+----------+\n",
       "\n",
       "+----------------+\n",
       "| ems_normalized |\n",
       "+----------------+\n",
       "|        float64 |\n",
       "+----------------+\n",
       "|       1.47e-01 |\n",
       "|       1.99e-01 |\n",
       "|       4.37e-02 |\n",
       "|       4.19e-02 |\n",
       "|       4.37e-02 |\n",
       "+----------------+"
      ]
     },
     "metadata": {},
     "output_type": "display_data"
    }
   ],
   "source": [
    "tissue_name = \"Whole_Blood\"\n",
    "ems = hl.read_table(\"gs://expression-modifier-score/public/ht/ems_{0}.ht\".format(tissue_name))\n",
    "ems.head(5).show() #show the first 5 entries"
   ]
  },
  {
   "cell_type": "markdown",
   "metadata": {},
   "source": [
    "The `v` column shows the variant (in hg38), \n",
    "\n",
    "the `g` column shows the gene, \n",
    "\n",
    "the `rf_score_raw` is the raw output score from the random forest model used in building the EMS (ranging from 0 to 1), \n",
    "\n",
    "the `ems` is the EMS, corresponding to the estimated probability of the variant-gene pairs being a putative causal eQTL, and\n",
    "\n",
    "the `ems_normalized` is the EMS divided by the probability that a random variant-gene pair being a putative causal eQTL."
   ]
  },
  {
   "cell_type": "markdown",
   "metadata": {},
   "source": [
    "Since EMS is defined for all the variant-gene pairs in GTEx, the table is quite large:"
   ]
  },
  {
   "cell_type": "code",
   "execution_count": 3,
   "metadata": {},
   "outputs": [
    {
     "data": {
      "text/plain": [
       "149429947"
      ]
     },
     "execution_count": 3,
     "metadata": {},
     "output_type": "execute_result"
    }
   ],
   "source": [
    "ems.count() #counts the number of rows"
   ]
  },
  {
   "cell_type": "markdown",
   "metadata": {},
   "source": [
    "As this number is quite large, in this tutorial we will cut down and focus on the first 100,000 entries:"
   ]
  },
  {
   "cell_type": "code",
   "execution_count": 4,
   "metadata": {},
   "outputs": [],
   "source": [
    "ems = ems.head(100000) #cut down to the first 100,000 entries"
   ]
  },
  {
   "cell_type": "markdown",
   "metadata": {},
   "source": [
    "### EMS in different tissues\n",
    "\n",
    "We can simply change the tissue name to get the EMS for a different tissue:"
   ]
  },
  {
   "cell_type": "code",
   "execution_count": 5,
   "metadata": {},
   "outputs": [
    {
     "data": {
      "text/html": [
       "<table><thead style=\"font-weight: bold;\"><tr><td>v</td><td>g</td><td>rf_score_raw</td><td>ems</td><td>ems_normalized</td></tr>\n",
       "<tr><td>str</td><td>str</td><td>float64</td><td>float64</td><td>float64</td></tr>\n",
       "</thead><tbody><tr><td>&quot;chr10_100000235_C_T_b38&quot;</td><td>&quot;ENSG00000014919.12&quot;</td><td>2.57e-02</td><td>9.74e-07</td><td>8.97e-02</td></tr>\n",
       "<tr><td>&quot;chr10_100000235_C_T_b38&quot;</td><td>&quot;ENSG00000023839.10&quot;</td><td>5.29e-02</td><td>2.22e-06</td><td>2.05e-01</td></tr>\n",
       "<tr><td>&quot;chr10_100000235_C_T_b38&quot;</td><td>&quot;ENSG00000055950.16&quot;</td><td>7.14e-03</td><td>3.53e-07</td><td>3.25e-02</td></tr>\n",
       "<tr><td>&quot;chr10_100000235_C_T_b38&quot;</td><td>&quot;ENSG00000075290.7&quot;</td><td>1.00e-02</td><td>4.27e-07</td><td>3.93e-02</td></tr>\n",
       "<tr><td>&quot;chr10_100000235_C_T_b38&quot;</td><td>&quot;ENSG00000075826.16&quot;</td><td>8.57e-03</td><td>4.12e-07</td><td>3.80e-02</td></tr>\n",
       "</tbody></table>"
      ],
      "text/plain": [
       "+---------------------------+----------------------+--------------+----------+\n",
       "| v                         | g                    | rf_score_raw |      ems |\n",
       "+---------------------------+----------------------+--------------+----------+\n",
       "| str                       | str                  |      float64 |  float64 |\n",
       "+---------------------------+----------------------+--------------+----------+\n",
       "| \"chr10_100000235_C_T_b38\" | \"ENSG00000014919.12\" |     2.57e-02 | 9.74e-07 |\n",
       "| \"chr10_100000235_C_T_b38\" | \"ENSG00000023839.10\" |     5.29e-02 | 2.22e-06 |\n",
       "| \"chr10_100000235_C_T_b38\" | \"ENSG00000055950.16\" |     7.14e-03 | 3.53e-07 |\n",
       "| \"chr10_100000235_C_T_b38\" | \"ENSG00000075290.7\"  |     1.00e-02 | 4.27e-07 |\n",
       "| \"chr10_100000235_C_T_b38\" | \"ENSG00000075826.16\" |     8.57e-03 | 4.12e-07 |\n",
       "+---------------------------+----------------------+--------------+----------+\n",
       "\n",
       "+----------------+\n",
       "| ems_normalized |\n",
       "+----------------+\n",
       "|        float64 |\n",
       "+----------------+\n",
       "|       8.97e-02 |\n",
       "|       2.05e-01 |\n",
       "|       3.25e-02 |\n",
       "|       3.93e-02 |\n",
       "|       3.80e-02 |\n",
       "+----------------+"
      ]
     },
     "metadata": {},
     "output_type": "display_data"
    }
   ],
   "source": [
    "tissue_name = \"Muscle_Skeletal\"\n",
    "ems_muscle = hl.read_table(\"gs://expression-modifier-score/public/ht/ems_{0}.ht\".format(tissue_name))\n",
    "ems_muscle.head(5).show() #show the first 5 entries for the EMS in skeletal muscle"
   ]
  },
  {
   "cell_type": "markdown",
   "metadata": {},
   "source": [
    "# Filtering\n",
    "Here we will show an example of filtering the EMS table with specific condition of interest. \n",
    "\n",
    "One might be interested in only the variants that are more likely to be putative causal than by chance. \n",
    "Then we can filter the table with the value of `ems_normalized`:"
   ]
  },
  {
   "cell_type": "code",
   "execution_count": 6,
   "metadata": {},
   "outputs": [
    {
     "data": {
      "text/html": [
       "<table><thead style=\"font-weight: bold;\"><tr><td>v</td><td>g</td><td>rf_score_raw</td><td>ems</td><td>ems_normalized</td></tr>\n",
       "<tr><td>str</td><td>str</td><td>float64</td><td>float64</td><td>float64</td></tr>\n",
       "</thead><tbody><tr><td>&quot;chr10_100000235_C_T_b38&quot;</td><td>&quot;ENSG00000107554.16&quot;</td><td>5.91e-01</td><td>1.21e-04</td><td>9.93e+00</td></tr>\n",
       "<tr><td>&quot;chr10_100000943_G_A_b38&quot;</td><td>&quot;ENSG00000107554.16&quot;</td><td>4.25e-01</td><td>4.71e-05</td><td>3.88e+00</td></tr>\n",
       "<tr><td>&quot;chr10_100000979_T_C_b38&quot;</td><td>&quot;ENSG00000107554.16&quot;</td><td>6.52e-01</td><td>2.27e-04</td><td>1.87e+01</td></tr>\n",
       "<tr><td>&quot;chr10_100002012_T_C_b38&quot;</td><td>&quot;ENSG00000107554.16&quot;</td><td>6.38e-01</td><td>1.80e-04</td><td>1.49e+01</td></tr>\n",
       "<tr><td>&quot;chr10_100002038_G_A_b38&quot;</td><td>&quot;ENSG00000107554.16&quot;</td><td>4.85e-01</td><td>8.12e-05</td><td>6.69e+00</td></tr>\n",
       "</tbody></table>"
      ],
      "text/plain": [
       "+---------------------------+----------------------+--------------+----------+\n",
       "| v                         | g                    | rf_score_raw |      ems |\n",
       "+---------------------------+----------------------+--------------+----------+\n",
       "| str                       | str                  |      float64 |  float64 |\n",
       "+---------------------------+----------------------+--------------+----------+\n",
       "| \"chr10_100000235_C_T_b38\" | \"ENSG00000107554.16\" |     5.91e-01 | 1.21e-04 |\n",
       "| \"chr10_100000943_G_A_b38\" | \"ENSG00000107554.16\" |     4.25e-01 | 4.71e-05 |\n",
       "| \"chr10_100000979_T_C_b38\" | \"ENSG00000107554.16\" |     6.52e-01 | 2.27e-04 |\n",
       "| \"chr10_100002012_T_C_b38\" | \"ENSG00000107554.16\" |     6.38e-01 | 1.80e-04 |\n",
       "| \"chr10_100002038_G_A_b38\" | \"ENSG00000107554.16\" |     4.85e-01 | 8.12e-05 |\n",
       "+---------------------------+----------------------+--------------+----------+\n",
       "\n",
       "+----------------+\n",
       "| ems_normalized |\n",
       "+----------------+\n",
       "|        float64 |\n",
       "+----------------+\n",
       "|       9.93e+00 |\n",
       "|       3.88e+00 |\n",
       "|       1.87e+01 |\n",
       "|       1.49e+01 |\n",
       "|       6.69e+00 |\n",
       "+----------------+"
      ]
     },
     "metadata": {},
     "output_type": "display_data"
    }
   ],
   "source": [
    "ems_sub = ems.filter(ems.ems_normalized>1)\n",
    "ems_sub.head(5).show()"
   ]
  },
  {
   "cell_type": "code",
   "execution_count": 7,
   "metadata": {},
   "outputs": [
    {
     "name": "stdout",
     "output_type": "stream",
     "text": [
      "100000\n",
      "8548\n"
     ]
    }
   ],
   "source": [
    "print (ems.count())\n",
    "print (ems_sub.count())"
   ]
  },
  {
   "cell_type": "markdown",
   "metadata": {},
   "source": [
    "Only ~=8% of the vgs have `ems_normalized`>1."
   ]
  },
  {
   "cell_type": "markdown",
   "metadata": {},
   "source": [
    "# Aggregation\n",
    "One might be interested in only the variants. We can aggregate the table to get the maximum EMS for a variant:"
   ]
  },
  {
   "cell_type": "code",
   "execution_count": 8,
   "metadata": {},
   "outputs": [
    {
     "name": "stderr",
     "output_type": "stream",
     "text": [
      "2020-09-14 21:12:54 Hail: INFO: Ordering unsorted dataset with network shuffle\n"
     ]
    },
    {
     "data": {
      "text/html": [
       "<table><thead style=\"font-weight: bold;\"><tr><td>v</td><td>max_ems</td></tr>\n",
       "<tr><td>str</td><td>float64</td></tr>\n",
       "</thead><tbody><tr><td>&quot;chr10_100000235_C_T_b38&quot;</td><td>1.21e-04</td></tr>\n",
       "<tr><td>&quot;chr10_100000943_G_A_b38&quot;</td><td>4.71e-05</td></tr>\n",
       "<tr><td>&quot;chr10_100000979_T_C_b38&quot;</td><td>2.27e-04</td></tr>\n",
       "<tr><td>&quot;chr10_100002012_T_C_b38&quot;</td><td>1.80e-04</td></tr>\n",
       "<tr><td>&quot;chr10_100002038_G_A_b38&quot;</td><td>8.12e-05</td></tr>\n",
       "</tbody></table>"
      ],
      "text/plain": [
       "+---------------------------+----------+\n",
       "| v                         |  max_ems |\n",
       "+---------------------------+----------+\n",
       "| str                       |  float64 |\n",
       "+---------------------------+----------+\n",
       "| \"chr10_100000235_C_T_b38\" | 1.21e-04 |\n",
       "| \"chr10_100000943_G_A_b38\" | 4.71e-05 |\n",
       "| \"chr10_100000979_T_C_b38\" | 2.27e-04 |\n",
       "| \"chr10_100002012_T_C_b38\" | 1.80e-04 |\n",
       "| \"chr10_100002038_G_A_b38\" | 8.12e-05 |\n",
       "+---------------------------+----------+"
      ]
     },
     "metadata": {},
     "output_type": "display_data"
    }
   ],
   "source": [
    "ems_max = ems.group_by(\"v\").aggregate(max_ems = hl.agg.max(ems.ems))\n",
    "ems_max.head(5).show()"
   ]
  },
  {
   "cell_type": "markdown",
   "metadata": {},
   "source": [
    "# Annotating EMS for a set of vgs\n",
    "Here we will show an example of annotating EMS for a set of variant and genes of interest.\n",
    "\n",
    "\n",
    "Let's assume we have a `tsv` file with 10 rows of variant and genes, with the TSS distance annotated. \n",
    "\n",
    "We can read that as a hail table by `import_table`:\n",
    "\n"
   ]
  },
  {
   "cell_type": "code",
   "execution_count": 9,
   "metadata": {},
   "outputs": [
    {
     "name": "stderr",
     "output_type": "stream",
     "text": [
      "2020-09-14 21:12:55 Hail: INFO: Reading table to impute column types\n",
      "2020-09-14 21:12:56 Hail: INFO: Finished type imputation\n",
      "  Loading column 'v' as type 'str' (imputed)\n",
      "  Loading column 'g' as type 'str' (imputed)\n",
      "  Loading column 'tss_distance' as type 'int32' (imputed)\n"
     ]
    },
    {
     "data": {
      "text/html": [
       "<table><thead style=\"font-weight: bold;\"><tr><td>v</td><td>g</td><td>tss_distance</td></tr>\n",
       "<tr><td>str</td><td>str</td><td>int32</td></tr>\n",
       "</thead><tbody><tr><td>&quot;chr10_100000235_C_T_b38&quot;</td><td>&quot;ENSG00000107554.16&quot;</td><td>-9684</td></tr>\n",
       "<tr><td>&quot;chr10_100000943_G_A_b38&quot;</td><td>&quot;ENSG00000055950.16&quot;</td><td>-986423</td></tr>\n",
       "<tr><td>&quot;chr10_100000943_G_A_b38&quot;</td><td>&quot;ENSG00000107816.17&quot;</td><td>-995675</td></tr>\n",
       "<tr><td>&quot;chr10_100000943_G_A_b38&quot;</td><td>&quot;ENSG00000119906.11&quot;</td><td>-911797</td></tr>\n",
       "<tr><td>&quot;chr10_100000979_T_C_b38&quot;</td><td>&quot;ENSG00000055950.16&quot;</td><td>-986387</td></tr>\n",
       "</tbody></table>"
      ],
      "text/plain": [
       "+---------------------------+----------------------+--------------+\n",
       "| v                         | g                    | tss_distance |\n",
       "+---------------------------+----------------------+--------------+\n",
       "| str                       | str                  |        int32 |\n",
       "+---------------------------+----------------------+--------------+\n",
       "| \"chr10_100000235_C_T_b38\" | \"ENSG00000107554.16\" |        -9684 |\n",
       "| \"chr10_100000943_G_A_b38\" | \"ENSG00000055950.16\" |      -986423 |\n",
       "| \"chr10_100000943_G_A_b38\" | \"ENSG00000107816.17\" |      -995675 |\n",
       "| \"chr10_100000943_G_A_b38\" | \"ENSG00000119906.11\" |      -911797 |\n",
       "| \"chr10_100000979_T_C_b38\" | \"ENSG00000055950.16\" |      -986387 |\n",
       "+---------------------------+----------------------+--------------+"
      ]
     },
     "metadata": {},
     "output_type": "display_data"
    }
   ],
   "source": [
    "df = hl.import_table(\"gs://qingbowang/vg_head10000_example.tsv\", impute=True)\n",
    "df.head(5).show()"
   ]
  },
  {
   "cell_type": "markdown",
   "metadata": {},
   "source": [
    "We can annotate the EMS using hail language. Below are two examples of doing so:"
   ]
  },
  {
   "cell_type": "code",
   "execution_count": 10,
   "metadata": {},
   "outputs": [
    {
     "name": "stdout",
     "output_type": "stream",
     "text": [
      "<StructExpression of type struct{v: str, g: str}>\n",
      "<StructExpression of type struct{v: str, g: str}>\n"
     ]
    },
    {
     "name": "stderr",
     "output_type": "stream",
     "text": [
      "2020-09-14 21:12:57 Hail: INFO: Coerced sorted dataset\n"
     ]
    },
    {
     "data": {
      "text/html": [
       "<table><thead style=\"font-weight: bold;\"><tr><td>v</td><td>g</td><td>tss_distance</td><td>ems</td></tr>\n",
       "<tr><td>str</td><td>str</td><td>int32</td><td>float64</td></tr>\n",
       "</thead><tbody><tr><td>&quot;chr10_100000235_C_T_b38&quot;</td><td>&quot;ENSG00000107554.16&quot;</td><td>-9684</td><td>1.21e-04</td></tr>\n",
       "<tr><td>&quot;chr10_100000943_G_A_b38&quot;</td><td>&quot;ENSG00000055950.16&quot;</td><td>-986423</td><td>2.74e-07</td></tr>\n",
       "<tr><td>&quot;chr10_100000943_G_A_b38&quot;</td><td>&quot;ENSG00000107816.17&quot;</td><td>-995675</td><td>2.74e-07</td></tr>\n",
       "<tr><td>&quot;chr10_100000943_G_A_b38&quot;</td><td>&quot;ENSG00000119906.11&quot;</td><td>-911797</td><td>2.74e-07</td></tr>\n",
       "<tr><td>&quot;chr10_100000979_T_C_b38&quot;</td><td>&quot;ENSG00000055950.16&quot;</td><td>-986387</td><td>5.16e-07</td></tr>\n",
       "</tbody></table>"
      ],
      "text/plain": [
       "+---------------------------+----------------------+--------------+----------+\n",
       "| v                         | g                    | tss_distance |      ems |\n",
       "+---------------------------+----------------------+--------------+----------+\n",
       "| str                       | str                  |        int32 |  float64 |\n",
       "+---------------------------+----------------------+--------------+----------+\n",
       "| \"chr10_100000235_C_T_b38\" | \"ENSG00000107554.16\" |        -9684 | 1.21e-04 |\n",
       "| \"chr10_100000943_G_A_b38\" | \"ENSG00000055950.16\" |      -986423 | 2.74e-07 |\n",
       "| \"chr10_100000943_G_A_b38\" | \"ENSG00000107816.17\" |      -995675 | 2.74e-07 |\n",
       "| \"chr10_100000943_G_A_b38\" | \"ENSG00000119906.11\" |      -911797 | 2.74e-07 |\n",
       "| \"chr10_100000979_T_C_b38\" | \"ENSG00000055950.16\" |      -986387 | 5.16e-07 |\n",
       "+---------------------------+----------------------+--------------+----------+"
      ]
     },
     "metadata": {},
     "output_type": "display_data"
    },
    {
     "name": "stderr",
     "output_type": "stream",
     "text": [
      "2020-09-14 21:12:59 Hail: INFO: Coerced sorted dataset\n"
     ]
    },
    {
     "data": {
      "text/html": [
       "<table><thead style=\"font-weight: bold;\"><tr><td>v</td><td>g</td><td>tss_distance</td><td>rf_score_raw</td><td>ems</td><td>ems_normalized</td></tr>\n",
       "<tr><td>str</td><td>str</td><td>int32</td><td>float64</td><td>float64</td><td>float64</td></tr>\n",
       "</thead><tbody><tr><td>&quot;chr10_100000235_C_T_b38&quot;</td><td>&quot;ENSG00000107554.16&quot;</td><td>-9684</td><td>5.91e-01</td><td>1.21e-04</td><td>9.93e+00</td></tr>\n",
       "<tr><td>&quot;chr10_100000943_G_A_b38&quot;</td><td>&quot;ENSG00000055950.16&quot;</td><td>-986423</td><td>8.61e-03</td><td>2.74e-07</td><td>2.26e-02</td></tr>\n",
       "<tr><td>&quot;chr10_100000943_G_A_b38&quot;</td><td>&quot;ENSG00000107816.17&quot;</td><td>-995675</td><td>8.61e-03</td><td>2.74e-07</td><td>2.26e-02</td></tr>\n",
       "<tr><td>&quot;chr10_100000943_G_A_b38&quot;</td><td>&quot;ENSG00000119906.11&quot;</td><td>-911797</td><td>9.38e-03</td><td>2.74e-07</td><td>2.26e-02</td></tr>\n",
       "<tr><td>&quot;chr10_100000979_T_C_b38&quot;</td><td>&quot;ENSG00000055950.16&quot;</td><td>-986387</td><td>1.87e-02</td><td>5.16e-07</td><td>4.25e-02</td></tr>\n",
       "</tbody></table>"
      ],
      "text/plain": [
       "+---------------------------+----------------------+--------------+\n",
       "| v                         | g                    | tss_distance |\n",
       "+---------------------------+----------------------+--------------+\n",
       "| str                       | str                  |        int32 |\n",
       "+---------------------------+----------------------+--------------+\n",
       "| \"chr10_100000235_C_T_b38\" | \"ENSG00000107554.16\" |        -9684 |\n",
       "| \"chr10_100000943_G_A_b38\" | \"ENSG00000055950.16\" |      -986423 |\n",
       "| \"chr10_100000943_G_A_b38\" | \"ENSG00000107816.17\" |      -995675 |\n",
       "| \"chr10_100000943_G_A_b38\" | \"ENSG00000119906.11\" |      -911797 |\n",
       "| \"chr10_100000979_T_C_b38\" | \"ENSG00000055950.16\" |      -986387 |\n",
       "+---------------------------+----------------------+--------------+\n",
       "\n",
       "+--------------+----------+----------------+\n",
       "| rf_score_raw |      ems | ems_normalized |\n",
       "+--------------+----------+----------------+\n",
       "|      float64 |  float64 |        float64 |\n",
       "+--------------+----------+----------------+\n",
       "|     5.91e-01 | 1.21e-04 |       9.93e+00 |\n",
       "|     8.61e-03 | 2.74e-07 |       2.26e-02 |\n",
       "|     8.61e-03 | 2.74e-07 |       2.26e-02 |\n",
       "|     9.38e-03 | 2.74e-07 |       2.26e-02 |\n",
       "|     1.87e-02 | 5.16e-07 |       4.25e-02 |\n",
       "+--------------+----------+----------------+"
      ]
     },
     "metadata": {},
     "output_type": "display_data"
    }
   ],
   "source": [
    "#make sure that two tables of interest have the same keys\n",
    "df = df.key_by(\"v\", \"g\")\n",
    "print (ems.key)\n",
    "print (df.key)\n",
    "\n",
    "#1. simply `annotate` the column of interest\n",
    "df1 = df.annotate(ems = ems[df.key].ems)\n",
    "df1.head(5).show()\n",
    "\n",
    "#2. use `join` to annotate all the columns together\n",
    "df2 = df.join(ems, how=\"left\")\n",
    "df2.head(5).show()\n"
   ]
  },
  {
   "cell_type": "markdown",
   "metadata": {},
   "source": [
    "# Aggregation and Enrichment analysis\n",
    "\n",
    "In our manuscript, we quantified the enrichment of different genomic annotations in different EMS bins.\n",
    "\n",
    "As an example to replicate such analysis, here, we will investigate the relationship between distance to TSS and EMS.\n",
    "\n",
    "First, let's bin EMS and TSS in different windows:"
   ]
  },
  {
   "cell_type": "code",
   "execution_count": 11,
   "metadata": {},
   "outputs": [
    {
     "name": "stderr",
     "output_type": "stream",
     "text": [
      "2020-09-14 21:13:00 Hail: INFO: Coerced sorted dataset\n",
      "2020-09-14 21:13:02 Hail: INFO: Coerced sorted dataset\n",
      "2020-09-14 21:13:02 Hail: INFO: Coerced dataset with out-of-order partitions.\n"
     ]
    },
    {
     "data": {
      "text/html": [
       "<table><thead style=\"font-weight: bold;\"><tr><td>tss_distance_bin</td><td>ems_normalized_bin</td><td>n</td></tr>\n",
       "<tr><td>int32</td><td>int32</td><td>int64</td></tr>\n",
       "</thead><tbody><tr><td>1</td><td>1</td><td>146</td></tr>\n",
       "<tr><td>1</td><td>2</td><td>5389</td></tr>\n",
       "<tr><td>2</td><td>1</td><td>78</td></tr>\n",
       "<tr><td>2</td><td>2</td><td>4387</td></tr>\n",
       "</tbody></table>"
      ],
      "text/plain": [
       "+------------------+--------------------+-------+\n",
       "| tss_distance_bin | ems_normalized_bin |     n |\n",
       "+------------------+--------------------+-------+\n",
       "|            int32 |              int32 | int64 |\n",
       "+------------------+--------------------+-------+\n",
       "|                1 |                  1 |   146 |\n",
       "|                1 |                  2 |  5389 |\n",
       "|                2 |                  1 |    78 |\n",
       "|                2 |                  2 |  4387 |\n",
       "+------------------+--------------------+-------+"
      ]
     },
     "metadata": {},
     "output_type": "display_data"
    }
   ],
   "source": [
    "df2 = df2.filter(hl.is_defined(df2.ems))#remove small number of NAs\n",
    "df2 = df2.annotate(tss_distance_bin = hl.case()\n",
    "                                      .when(df2.tss_distance <10**4, 1) \n",
    "                                      .default(2), \n",
    "                   ems_normalized_bin = hl.case()\n",
    "                                       .when(df2.ems_normalized>10, 1)\n",
    "                                       .default(2) )\n",
    "\n",
    "summary = df2.group_by(\"tss_distance_bin\", \"ems_normalized_bin\").aggregate(n = hl.agg.count())\n",
    "summary.show()"
   ]
  },
  {
   "cell_type": "markdown",
   "metadata": {},
   "source": [
    "We can make small pandas dataframe to compare the distribution of distance to TSS for vgs with high vs low EMS:"
   ]
  },
  {
   "cell_type": "code",
   "execution_count": 12,
   "metadata": {},
   "outputs": [
    {
     "name": "stderr",
     "output_type": "stream",
     "text": [
      "2020-09-14 21:13:02 Hail: INFO: Coerced sorted dataset\n",
      "2020-09-14 21:13:03 Hail: INFO: Coerced sorted dataset\n",
      "2020-09-14 21:13:03 Hail: INFO: Coerced dataset with out-of-order partitions.\n"
     ]
    },
    {
     "data": {
      "text/html": [
       "<div>\n",
       "<style scoped>\n",
       "    .dataframe tbody tr th:only-of-type {\n",
       "        vertical-align: middle;\n",
       "    }\n",
       "\n",
       "    .dataframe tbody tr th {\n",
       "        vertical-align: top;\n",
       "    }\n",
       "\n",
       "    .dataframe thead th {\n",
       "        text-align: right;\n",
       "    }\n",
       "</style>\n",
       "<table border=\"1\" class=\"dataframe\">\n",
       "  <thead>\n",
       "    <tr style=\"text-align: right;\">\n",
       "      <th></th>\n",
       "      <th>&gt;10</th>\n",
       "      <th>&lt;10</th>\n",
       "    </tr>\n",
       "  </thead>\n",
       "  <tbody>\n",
       "    <tr>\n",
       "      <th>&lt;10000</th>\n",
       "      <td>146</td>\n",
       "      <td>5389</td>\n",
       "    </tr>\n",
       "    <tr>\n",
       "      <th>&gt;10000</th>\n",
       "      <td>78</td>\n",
       "      <td>4387</td>\n",
       "    </tr>\n",
       "  </tbody>\n",
       "</table>\n",
       "</div>"
      ],
      "text/plain": [
       "        >10   <10\n",
       "<10000  146  5389\n",
       ">10000   78  4387"
      ]
     },
     "execution_count": 12,
     "metadata": {},
     "output_type": "execute_result"
    }
   ],
   "source": [
    "summary = summary.to_pandas()\n",
    "summary = pd.pivot_table(summary, values='n', index=\"tss_distance_bin\",columns=\"ems_normalized_bin\")\n",
    "summary.index.names = [\"tss_distance\"]\n",
    "summary.columns.names = [\"ems_normalized\"]\n",
    "summary.index = [\"<10000\", \">10000\"]\n",
    "summary.columns = [\">10\", \"<10\"]\n",
    "summary"
   ]
  },
  {
   "cell_type": "markdown",
   "metadata": {},
   "source": [
    "And not surprisingly, variants with distance to TSS <10kb are enriched in high (>10x the random) EMS variants:"
   ]
  },
  {
   "cell_type": "code",
   "execution_count": 13,
   "metadata": {},
   "outputs": [
    {
     "name": "stderr",
     "output_type": "stream",
     "text": [
      "findfont: Font family ['sans-serif'] not found. Falling back to DejaVu Sans.\n"
     ]
    },
    {
     "data": {
      "image/png": "[encoded data removed]",
      "text/plain": [
       "<Figure size 432x288 with 1 Axes>"
      ]
     },
     "metadata": {
      "needs_background": "light"
     },
     "output_type": "display_data"
    }
   ],
   "source": [
    "rd = summary.iloc[0,:].sum() / summary.sum().sum() #prob(close to TSS) for a random variant\n",
    "enr = summary.iloc[0,:] / summary.sum(axis=0) #prob(close to TSS | high or low EMS)\n",
    "err = np.sqrt(enr*(1-enr) / summary.sum(axis=0)) #sem\n",
    "enr = enr/rd #divide by the random to get an enrichment\n",
    "err = err/rd #divide by the random, for an estimate of the error of the enrichment\n",
    "\n",
    "plt.rcParams.update({'font.size': 14})\n",
    "plt.rcParams['font.sans-serif'] = \"Arial\"\n",
    "plt.rcParams['font.family'] = \"sans-serif\"\n",
    "plt.errorbar([0,1], enr, err, fmt=\"o\")\n",
    "plt.xlabel(\"EMS bin\")\n",
    "plt.ylabel(\"Enrichment of variants \\n with distance to TSS <10kb\")\n",
    "plt.xticks([0,1],[\"High\",\"Low\"])\n",
    "plt.show()"
   ]
  },
  {
   "cell_type": "markdown",
   "metadata": {},
   "source": [
    "# End notes\n",
    "\n",
    "This tutorial explained basic properties of EMS, how to annotate EMS to a set of variant-gene pairs, and an example of enrichment analysis using EMS, in a cloud environment. \n",
    "\n",
    "For users who prefer file formats other than hail table, we have also prepared `tsv` files for a subset of variant-gene pairs (those with `ems_normalized>100`), and the corresponding tutorial is available at `tutorial_local.ipynb`.\n",
    "\n"
   ]
  }
 ],
 "metadata": {
  "kernelspec": {
   "display_name": "Hail",
   "language": "python",
   "name": "hail"
  },
  "language_info": {
   "codemirror_mode": {
    "name": "ipython",
    "version": 3
   },
   "file_extension": ".py",
   "mimetype": "text/x-python",
   "name": "python",
   "nbconvert_exporter": "python",
   "pygments_lexer": "ipython3",
   "version": "3.6.10"
  }
 },
 "nbformat": 4,
 "nbformat_minor": 4
}
